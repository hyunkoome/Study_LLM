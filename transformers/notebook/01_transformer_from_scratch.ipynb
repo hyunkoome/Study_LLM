{
 "cells": [
  {
   "cell_type": "markdown",
   "metadata": {
    "id": "mr7FmYqAi6y2"
   },
   "source": [
    "## 예제 2.1 토큰화 코드"
   ]
  },
  {
   "cell_type": "code",
   "execution_count": 1,
   "metadata": {
    "colab": {
     "base_uri": "https://localhost:8080/"
    },
    "id": "f3K1on7SMnXj",
    "outputId": "a4b9cbbd-279d-4f1b-a0f8-fc5e32bb70db",
    "ExecuteTime": {
     "end_time": "2024-08-21T07:07:30.215010Z",
     "start_time": "2024-08-21T07:07:30.210893Z"
    }
   },
   "outputs": [
    {
     "name": "stdout",
     "output_type": "stream",
     "text": [
      "input_text_list:  ['나는', '최근', '파리', '여행을', '다녀왔다']\n",
      "str2idx:  {'나는': 0, '최근': 1, '파리': 2, '여행을': 3, '다녀왔다': 4}\n",
      "idx2str:  {0: '나는', 1: '최근', 2: '파리', 3: '여행을', 4: '다녀왔다'}\n",
      "input_ids:  [0, 1, 2, 3, 4]\n"
     ]
    }
   ],
   "source": [
    "# 띄어쓰기 단위로 분리\n",
    "input_text = \"나는 최근 파리 여행을 다녀왔다\"\n",
    "input_text_list = input_text.split()\n",
    "print(\"input_text_list: \", input_text_list)\n",
    "\n",
    "# 토큰 -> 아이디 딕셔너리와 아이디 -> 토큰 딕셔너리 만들기\n",
    "str2idx = {word:idx for idx, word in enumerate(input_text_list)}\n",
    "idx2str = {idx:word for idx, word in enumerate(input_text_list)}\n",
    "print(\"str2idx: \", str2idx)\n",
    "print(\"idx2str: \", idx2str)\n",
    "\n",
    "# 토큰을 토큰 아이디로 변환\n",
    "input_ids = [str2idx[word] for word in input_text_list]\n",
    "print(\"input_ids: \", input_ids)"
   ]
  },
  {
   "cell_type": "markdown",
   "metadata": {
    "id": "CX95psBGjELL"
   },
   "source": [
    "## 예제 2.2 토큰 아이디에서 벡터로 변환"
   ]
  },
  {
   "cell_type": "code",
   "execution_count": 2,
   "metadata": {
    "colab": {
     "base_uri": "https://localhost:8080/"
    },
    "id": "dCKTtOt9NvFA",
    "outputId": "66e59720-871a-475f-e966-9a1fc31e37a9",
    "ExecuteTime": {
     "end_time": "2024-08-21T07:07:30.916360Z",
     "start_time": "2024-08-21T07:07:30.236138Z"
    }
   },
   "outputs": [
    {
     "name": "stdout",
     "output_type": "stream",
     "text": [
      "input_embeddings tensor([[ 0.2049,  1.6807,  1.5765, -0.5395,  0.9899,  0.5722, -0.2818, -0.3771,\n",
      "          0.0328, -1.6833, -1.5398, -0.5732, -0.1802, -1.3813, -0.4298,  1.5461],\n",
      "        [-0.3825,  1.4663, -1.0194,  1.5348,  0.4648,  0.8077,  0.7148,  0.9094,\n",
      "         -0.7804,  0.5306,  0.3723, -1.8589,  0.2746,  1.0328, -2.4390,  0.4086],\n",
      "        [-0.1172,  0.3957, -0.1310, -0.2463, -0.2879,  0.7252, -0.6387, -0.9032,\n",
      "         -1.6478, -0.0396,  0.9037,  0.0452, -0.5477,  0.9914, -0.2411, -0.8526],\n",
      "        [-1.1236, -1.2650,  1.2597,  0.9548, -0.5562,  1.2302,  0.3720,  0.1331,\n",
      "         -1.2442,  0.4147, -0.3238, -0.0697,  0.2225, -0.0969, -1.6555, -2.0065],\n",
      "        [-0.3631, -2.3431,  0.0504, -2.0693, -1.2970, -1.1414, -0.6474,  0.2287,\n",
      "          0.9482,  0.4899,  0.3273,  0.2623,  2.4651, -0.5680,  0.8162,  0.6339]],\n",
      "       grad_fn=<EmbeddingBackward0>)\n",
      "input_embeddings.shape torch.Size([5, 16])\n",
      "input_embeddings tensor([[[ 0.2049,  1.6807,  1.5765, -0.5395,  0.9899,  0.5722, -0.2818,\n",
      "          -0.3771,  0.0328, -1.6833, -1.5398, -0.5732, -0.1802, -1.3813,\n",
      "          -0.4298,  1.5461],\n",
      "         [-0.3825,  1.4663, -1.0194,  1.5348,  0.4648,  0.8077,  0.7148,\n",
      "           0.9094, -0.7804,  0.5306,  0.3723, -1.8589,  0.2746,  1.0328,\n",
      "          -2.4390,  0.4086],\n",
      "         [-0.1172,  0.3957, -0.1310, -0.2463, -0.2879,  0.7252, -0.6387,\n",
      "          -0.9032, -1.6478, -0.0396,  0.9037,  0.0452, -0.5477,  0.9914,\n",
      "          -0.2411, -0.8526],\n",
      "         [-1.1236, -1.2650,  1.2597,  0.9548, -0.5562,  1.2302,  0.3720,\n",
      "           0.1331, -1.2442,  0.4147, -0.3238, -0.0697,  0.2225, -0.0969,\n",
      "          -1.6555, -2.0065],\n",
      "         [-0.3631, -2.3431,  0.0504, -2.0693, -1.2970, -1.1414, -0.6474,\n",
      "           0.2287,  0.9482,  0.4899,  0.3273,  0.2623,  2.4651, -0.5680,\n",
      "           0.8162,  0.6339]]], grad_fn=<UnsqueezeBackward0>)\n",
      "input_embeddings.shape torch.Size([1, 5, 16])\n"
     ]
    }
   ],
   "source": [
    "import torch\n",
    "import torch.nn as nn\n",
    "\n",
    "embedding_dim = 16\n",
    "embed_layer = nn.Embedding(len(str2idx), embedding_dim)\n",
    "\n",
    "input_embeddings = embed_layer(torch.tensor(input_ids)) # (5, 16)\n",
    "print('input_embeddings', input_embeddings)\n",
    "print('input_embeddings.shape', input_embeddings.shape)\n",
    "input_embeddings = input_embeddings.unsqueeze(0) # (1, 5, 16)\n",
    "print('input_embeddings', input_embeddings)\n",
    "print('input_embeddings.shape', input_embeddings.shape)"
   ]
  },
  {
   "cell_type": "code",
   "outputs": [],
   "source": [
    "embedding_dim = 16\n",
    "max_position = 12"
   ],
   "metadata": {
    "collapsed": false,
    "ExecuteTime": {
     "end_time": "2024-08-21T07:07:30.919217Z",
     "start_time": "2024-08-21T07:07:30.917308Z"
    }
   },
   "execution_count": 3
  },
  {
   "cell_type": "markdown",
   "metadata": {
    "id": "FwClYMSSjLjp"
   },
   "source": [
    "## 예제 2.3 절대적 위치 인코딩"
   ]
  },
  {
   "cell_type": "code",
   "execution_count": 4,
   "metadata": {
    "colab": {
     "base_uri": "https://localhost:8080/"
    },
    "id": "ws1A-ALkjLWH",
    "outputId": "a83d2e96-8bad-461c-bc7f-ac59e65a2fcf",
    "ExecuteTime": {
     "end_time": "2024-08-21T07:07:30.944119Z",
     "start_time": "2024-08-21T07:07:30.919752Z"
    }
   },
   "outputs": [
    {
     "name": "stdout",
     "output_type": "stream",
     "text": [
      "position_ids tensor([[0, 1, 2, 3, 4]])\n",
      "position_encodings tensor([[[ 0.2800, -1.4892,  1.5191,  1.3917,  0.1355, -1.4985,  1.3526,\n",
      "           0.8153,  0.9171,  1.1009, -0.4183, -0.5849,  0.3299,  1.3712,\n",
      "           0.7591, -0.3041],\n",
      "         [ 1.5170,  0.6659, -0.0108, -1.4093,  0.9824, -2.4438,  1.4747,\n",
      "           0.1785,  0.3609, -1.6568,  3.4831,  0.3396, -1.4861, -0.5981,\n",
      "           0.4219, -0.1289],\n",
      "         [ 0.0146, -0.4801,  0.0749, -1.0300, -0.3913, -0.9857,  0.3914,\n",
      "          -0.5196,  0.8458, -0.7562, -1.1063, -0.8546, -0.3067, -0.3044,\n",
      "           0.6212, -1.3468],\n",
      "         [-0.2744,  2.3860,  0.1830,  0.4471, -0.0629,  2.4600, -0.3933,\n",
      "          -0.7084,  0.6466,  0.0467,  0.5754, -0.2558, -0.5307,  1.3259,\n",
      "           0.5275,  0.9467],\n",
      "         [-0.5554, -0.3552, -0.2682,  2.3147, -0.9738, -0.0857, -0.3732,\n",
      "           1.1452,  0.3385,  2.0273,  0.1792, -0.0590, -0.4788, -0.2977,\n",
      "          -0.7366,  2.1764]]], grad_fn=<EmbeddingBackward0>)\n",
      "position_encodings.shape torch.Size([1, 5, 16])\n"
     ]
    }
   ],
   "source": [
    "# 토큰 임베딩 층 생성\n",
    "embed_layer = nn.Embedding(len(str2idx), embedding_dim)\n",
    "# 위치 인코딩 층 생성\n",
    "position_embed_layer = nn.Embedding(max_position, embedding_dim)\n",
    "\n",
    "position_ids = torch.arange(len(input_ids), dtype=torch.long).unsqueeze(0)\n",
    "print('position_ids', position_ids)\n",
    "position_encodings = position_embed_layer(position_ids)\n",
    "print('position_encodings', position_encodings)\n",
    "print('position_encodings.shape', position_encodings.shape)\n",
    "\n"
   ]
  },
  {
   "cell_type": "code",
   "outputs": [
    {
     "name": "stdout",
     "output_type": "stream",
     "text": [
      "token_embeddings tensor([[-1.7694e+00,  8.9674e-01, -1.3924e+00, -2.3082e-01, -8.2124e-02,\n",
      "         -6.2122e-01,  1.6840e+00,  3.0954e-01,  7.1563e-02, -2.0688e-01,\n",
      "         -1.6112e-01,  1.7311e-01, -9.4804e-01,  1.1038e-01, -1.2019e+00,\n",
      "         -7.7155e-01],\n",
      "        [ 6.9043e-01, -4.7758e-01,  5.5456e-02, -9.6146e-01, -3.1735e-01,\n",
      "          1.2977e+00,  6.2255e-02, -1.1639e+00, -5.6206e-01,  4.4180e-01,\n",
      "          6.4554e-01,  3.0120e-01,  2.6968e-01, -2.4253e-01,  5.6468e-01,\n",
      "          2.7834e-01],\n",
      "        [ 1.1892e+00, -8.9980e-02,  2.3783e-02, -1.1387e+00, -1.4679e+00,\n",
      "          4.9899e-01,  1.4221e+00, -4.2517e-01,  1.6667e-01,  6.8872e-01,\n",
      "         -7.3018e-01, -2.5622e+00, -1.1939e+00,  1.2343e+00, -3.6834e-01,\n",
      "          4.9050e-01],\n",
      "        [ 1.8684e-01, -1.8169e+00,  4.1210e-01, -1.6667e-03, -1.8055e-01,\n",
      "         -9.3585e-01, -6.5065e-01,  6.7471e-02, -2.6076e-01, -1.8144e+00,\n",
      "          5.0001e-01,  1.4602e-01, -2.2640e+00, -8.8636e-02, -1.2958e+00,\n",
      "         -1.5845e-01],\n",
      "        [-4.2782e-01, -2.0259e+00,  1.1790e+00, -1.8564e-02,  5.5620e-01,\n",
      "          2.9724e-01, -5.6944e-01,  1.1159e+00,  2.0517e-02, -5.2472e-01,\n",
      "          6.9563e-01,  2.0219e+00, -9.1292e-01, -9.1365e-01,  7.0772e-01,\n",
      "         -5.6416e-01]], grad_fn=<EmbeddingBackward0>)\n",
      "token_embeddings.shape torch.Size([5, 16])\n",
      "token_embeddings tensor([[[-1.7694e+00,  8.9674e-01, -1.3924e+00, -2.3082e-01, -8.2124e-02,\n",
      "          -6.2122e-01,  1.6840e+00,  3.0954e-01,  7.1563e-02, -2.0688e-01,\n",
      "          -1.6112e-01,  1.7311e-01, -9.4804e-01,  1.1038e-01, -1.2019e+00,\n",
      "          -7.7155e-01],\n",
      "         [ 6.9043e-01, -4.7758e-01,  5.5456e-02, -9.6146e-01, -3.1735e-01,\n",
      "           1.2977e+00,  6.2255e-02, -1.1639e+00, -5.6206e-01,  4.4180e-01,\n",
      "           6.4554e-01,  3.0120e-01,  2.6968e-01, -2.4253e-01,  5.6468e-01,\n",
      "           2.7834e-01],\n",
      "         [ 1.1892e+00, -8.9980e-02,  2.3783e-02, -1.1387e+00, -1.4679e+00,\n",
      "           4.9899e-01,  1.4221e+00, -4.2517e-01,  1.6667e-01,  6.8872e-01,\n",
      "          -7.3018e-01, -2.5622e+00, -1.1939e+00,  1.2343e+00, -3.6834e-01,\n",
      "           4.9050e-01],\n",
      "         [ 1.8684e-01, -1.8169e+00,  4.1210e-01, -1.6667e-03, -1.8055e-01,\n",
      "          -9.3585e-01, -6.5065e-01,  6.7471e-02, -2.6076e-01, -1.8144e+00,\n",
      "           5.0001e-01,  1.4602e-01, -2.2640e+00, -8.8636e-02, -1.2958e+00,\n",
      "          -1.5845e-01],\n",
      "         [-4.2782e-01, -2.0259e+00,  1.1790e+00, -1.8564e-02,  5.5620e-01,\n",
      "           2.9724e-01, -5.6944e-01,  1.1159e+00,  2.0517e-02, -5.2472e-01,\n",
      "           6.9563e-01,  2.0219e+00, -9.1292e-01, -9.1365e-01,  7.0772e-01,\n",
      "          -5.6416e-01]]], grad_fn=<UnsqueezeBackward0>)\n",
      "token_embeddings.shape torch.Size([1, 5, 16])\n"
     ]
    }
   ],
   "source": [
    "token_embeddings = embed_layer(torch.tensor(input_ids)) # (5, 16)\n",
    "print('token_embeddings', token_embeddings)\n",
    "print('token_embeddings.shape', token_embeddings.shape)\n",
    "\n",
    "token_embeddings = token_embeddings.unsqueeze(0) # (1, 5, 16)\n",
    "print('token_embeddings', token_embeddings)\n",
    "print('token_embeddings.shape', token_embeddings.shape)\n"
   ],
   "metadata": {
    "collapsed": false,
    "ExecuteTime": {
     "end_time": "2024-08-21T07:07:30.954204Z",
     "start_time": "2024-08-21T07:07:30.946857Z"
    }
   },
   "execution_count": 5
  },
  {
   "cell_type": "code",
   "outputs": [
    {
     "name": "stdout",
     "output_type": "stream",
     "text": [
      "input_embeddings tensor([[[-1.4895, -0.5925,  0.1266,  1.1609,  0.0534, -2.1197,  3.0366,\n",
      "           1.1248,  0.9886,  0.8940, -0.5794, -0.4117, -0.6181,  1.4816,\n",
      "          -0.4428, -1.0756],\n",
      "         [ 2.2075,  0.1883,  0.0447, -2.3708,  0.6651, -1.1461,  1.5370,\n",
      "          -0.9855, -0.2011, -1.2150,  4.1286,  0.6408, -1.2164, -0.8407,\n",
      "           0.9865,  0.1495],\n",
      "         [ 1.2038, -0.5701,  0.0987, -2.1688, -1.8592, -0.4867,  1.8135,\n",
      "          -0.9447,  1.0125, -0.0675, -1.8365, -3.4168, -1.5006,  0.9299,\n",
      "           0.2528, -0.8563],\n",
      "         [-0.0876,  0.5691,  0.5951,  0.4454, -0.2435,  1.5242, -1.0440,\n",
      "          -0.6409,  0.3859, -1.7676,  1.0754, -0.1097, -2.7947,  1.2373,\n",
      "          -0.7683,  0.7882],\n",
      "         [-0.9832, -2.3812,  0.9108,  2.2962, -0.4176,  0.2116, -0.9426,\n",
      "           2.2611,  0.3590,  1.5026,  0.8748,  1.9629, -1.3917, -1.2113,\n",
      "          -0.0289,  1.6123]]], grad_fn=<AddBackward0>)\n",
      "input_embeddings.shape torch.Size([1, 5, 16])\n"
     ]
    }
   ],
   "source": [
    "# 토큰 임베딩과 위치 인코딩을 더해 최종 입력 임베딩 생성\n",
    "input_embeddings = token_embeddings + position_encodings\n",
    "print('input_embeddings', input_embeddings)\n",
    "print('input_embeddings.shape', input_embeddings.shape)"
   ],
   "metadata": {
    "collapsed": false,
    "ExecuteTime": {
     "end_time": "2024-08-21T07:07:30.963155Z",
     "start_time": "2024-08-21T07:07:30.955081Z"
    }
   },
   "execution_count": 6
  },
  {
   "cell_type": "markdown",
   "metadata": {
    "id": "0MBYHKRMkCDs"
   },
   "source": [
    "## 예제 2.4 쿼리, 키, 값 벡터를 만드는 nn.Linear 층"
   ]
  },
  {
   "cell_type": "code",
   "execution_count": 7,
   "metadata": {
    "id": "Rse5Xy6_jhok",
    "ExecuteTime": {
     "end_time": "2024-08-21T07:07:30.974262Z",
     "start_time": "2024-08-21T07:07:30.963594Z"
    }
   },
   "outputs": [],
   "source": [
    "head_dim = 16\n",
    "\n",
    "# 쿼리, 키, 값을 계산하기 위한 변환\n",
    "weight_q = nn.Linear(embedding_dim, head_dim)\n",
    "weight_k = nn.Linear(embedding_dim, head_dim)\n",
    "weight_v = nn.Linear(embedding_dim, head_dim)\n",
    "# 변환 수행\n",
    "querys = weight_q(input_embeddings) # (1, 5, 16)\n",
    "keys = weight_k(input_embeddings) # (1, 5, 16)\n",
    "values = weight_v(input_embeddings) # (1, 5, 16)"
   ]
  },
  {
   "cell_type": "markdown",
   "metadata": {
    "id": "wfitct-lkSP2"
   },
   "source": [
    "## 예제 2.5. 스케일 점곱 방식의 어텐션"
   ]
  },
  {
   "cell_type": "code",
   "execution_count": 8,
   "metadata": {
    "id": "nftEA3lFkSwl",
    "ExecuteTime": {
     "end_time": "2024-08-21T07:07:30.984545Z",
     "start_time": "2024-08-21T07:07:30.974713Z"
    }
   },
   "outputs": [],
   "source": [
    "from math import sqrt\n",
    "import torch.nn.functional as F\n",
    "\n",
    "def compute_attention(querys, keys, values, is_causal=False):\n",
    "\tdim_k = querys.size(-1) # 16\n",
    "\tscores = querys @ keys.transpose(-2, -1) / sqrt(dim_k)\n",
    "\tweights = F.softmax(scores, dim=-1)\n",
    "\treturn weights @ values"
   ]
  },
  {
   "cell_type": "code",
   "outputs": [
    {
     "name": "stdout",
     "output_type": "stream",
     "text": [
      "[[19 22]\n",
      " [43 50]]\n",
      "[[19 22]\n",
      " [43 50]]\n"
     ]
    }
   ],
   "source": [
    "import numpy as np\n",
    "\n",
    "# 2x2 행렬 A와 B\n",
    "A = np.array([[1, 2], \n",
    "              [3, 4]])\n",
    "\n",
    "B = np.array([[5, 6], \n",
    "              [7, 8]])\n",
    "\n",
    "# 행렬 곱셈\n",
    "C = A @ B\n",
    "\n",
    "print(C)\n",
    "\n",
    "C_manual = np.dot(A, B)\n",
    "print(C_manual)\n",
    "\n"
   ],
   "metadata": {
    "collapsed": false,
    "ExecuteTime": {
     "end_time": "2024-08-21T07:07:30.995543Z",
     "start_time": "2024-08-21T07:07:30.985004Z"
    }
   },
   "execution_count": 9
  },
  {
   "cell_type": "markdown",
   "metadata": {
    "id": "CzHY8tvlkiTl"
   },
   "source": [
    "## 예제 2.6. 어텐션 연산의 입력과 출력"
   ]
  },
  {
   "cell_type": "code",
   "execution_count": 10,
   "metadata": {
    "colab": {
     "base_uri": "https://localhost:8080/"
    },
    "id": "h4evxbjRkfIi",
    "outputId": "44629901-1451-4491-a86b-25abc8a3e858",
    "ExecuteTime": {
     "end_time": "2024-08-21T07:07:31.006730Z",
     "start_time": "2024-08-21T07:07:30.996120Z"
    }
   },
   "outputs": [
    {
     "name": "stdout",
     "output_type": "stream",
     "text": [
      "원본 입력 형태:  torch.Size([1, 5, 16])\n",
      "어텐션 적용 후 형태:  torch.Size([1, 5, 16])\n"
     ]
    }
   ],
   "source": [
    "print(\"원본 입력 형태: \", input_embeddings.shape)\n",
    "\n",
    "after_attention_embeddings = compute_attention(querys, keys, values)\n",
    "\n",
    "print(\"어텐션 적용 후 형태: \", after_attention_embeddings.shape)\n",
    "# 원본 입력 형태:  torch.Size([1, 5, 16])\n",
    "# 어텐션 적용 후 형태:  torch.Size([1, 5, 16])"
   ]
  },
  {
   "cell_type": "markdown",
   "metadata": {
    "id": "OKv4X9rsknXs"
   },
   "source": [
    "## 예제 2.7. 어텐션 연산을 수행하는 AttentionHead 클래스"
   ]
  },
  {
   "cell_type": "code",
   "execution_count": 11,
   "metadata": {
    "id": "3HWTZ4jukn5p",
    "ExecuteTime": {
     "end_time": "2024-08-21T07:07:31.017383Z",
     "start_time": "2024-08-21T07:07:31.007719Z"
    }
   },
   "outputs": [],
   "source": [
    "class AttentionHead(nn.Module):\n",
    "  def __init__(self, token_embed_dim, head_dim, is_causal=False):\n",
    "    super().__init__()\n",
    "    self.is_causal = is_causal\n",
    "    self.weight_q = nn.Linear(token_embed_dim, head_dim) # 쿼리 벡터 생성을 위한 선형 층\n",
    "    self.weight_k = nn.Linear(token_embed_dim, head_dim) # 키 벡터 생성을 위한 선형 층\n",
    "    self.weight_v = nn.Linear(token_embed_dim, head_dim) # 값 벡터 생성을 위한 선형 층\n",
    "\n",
    "  def forward(self, querys, keys, values):\n",
    "    outputs = compute_attention(\n",
    "        self.weight_q(querys),  # 쿼리 벡터\n",
    "        self.weight_k(keys),    # 키 벡터\n",
    "        self.weight_v(values),  # 값 벡터\n",
    "        is_causal=self.is_causal\n",
    "    )\n",
    "    return outputs\n",
    "\n",
    "attention_head = AttentionHead(embedding_dim, embedding_dim)\n",
    "after_attention_embeddings = attention_head(input_embeddings, input_embeddings, input_embeddings)"
   ]
  },
  {
   "cell_type": "markdown",
   "metadata": {
    "id": "30IXVnNElE2O"
   },
   "source": [
    "## 예제 2.8. 멀티 헤드 어텐션 구현"
   ]
  },
  {
   "cell_type": "code",
   "execution_count": 12,
   "metadata": {
    "colab": {
     "base_uri": "https://localhost:8080/"
    },
    "id": "a-qTbFVMlFND",
    "outputId": "cd7a3848-11ea-4e8e-cee4-8110592fd9a0",
    "ExecuteTime": {
     "end_time": "2024-08-21T07:07:31.043789Z",
     "start_time": "2024-08-21T07:07:31.017821Z"
    }
   },
   "outputs": [
    {
     "data": {
      "text/plain": "torch.Size([1, 5, 16])"
     },
     "execution_count": 12,
     "metadata": {},
     "output_type": "execute_result"
    }
   ],
   "source": [
    "class MultiheadAttention(nn.Module):\n",
    "  def __init__(self, token_embed_dim, d_model, n_head, is_causal=False):\n",
    "    super().__init__()\n",
    "    self.n_head = n_head\n",
    "    self.is_causal = is_causal\n",
    "    self.weight_q = nn.Linear(token_embed_dim, d_model)\n",
    "    self.weight_k = nn.Linear(token_embed_dim, d_model)\n",
    "    self.weight_v = nn.Linear(token_embed_dim, d_model)\n",
    "    self.concat_linear = nn.Linear(d_model, d_model)\n",
    "\n",
    "  def forward(self, querys, keys, values):\n",
    "    B, T, C = querys.size()\n",
    "    querys = self.weight_q(querys).view(B, T, self.n_head, C // self.n_head).transpose(1, 2)\n",
    "    keys = self.weight_k(keys).view(B, T, self.n_head, C // self.n_head).transpose(1, 2)\n",
    "    values = self.weight_v(values).view(B, T, self.n_head, C // self.n_head).transpose(1, 2)\n",
    "    attention = compute_attention(querys, keys, values, self.is_causal)\n",
    "    output = attention.transpose(1, 2).contiguous().view(B, T, C)\n",
    "    output = self.concat_linear(output)\n",
    "    return output\n",
    "\n",
    "n_head = 4\n",
    "mh_attention = MultiheadAttention(embedding_dim, embedding_dim, n_head)\n",
    "after_attention_embeddings = mh_attention(input_embeddings, input_embeddings, input_embeddings)\n",
    "after_attention_embeddings.shape"
   ]
  },
  {
   "cell_type": "markdown",
   "metadata": {
    "id": "iWtHyqa_mAtB"
   },
   "source": [
    "## 예제 2.9. 층 정규화 코드"
   ]
  },
  {
   "cell_type": "code",
   "execution_count": 13,
   "metadata": {
    "colab": {
     "base_uri": "https://localhost:8080/"
    },
    "id": "ikXwtWFBl5zw",
    "outputId": "93392ff7-2e59-4ac0-b817-615858508a3e",
    "ExecuteTime": {
     "end_time": "2024-08-21T07:07:31.060654Z",
     "start_time": "2024-08-21T07:07:31.044286Z"
    }
   },
   "outputs": [
    {
     "data": {
      "text/plain": "(tensor([[ 0.0000e+00, -1.4901e-08,  3.3528e-08, -1.1176e-08,  0.0000e+00]]),\n tensor([[1.0328, 1.0328, 1.0328, 1.0328, 1.0328]]))"
     },
     "execution_count": 13,
     "metadata": {},
     "output_type": "execute_result"
    }
   ],
   "source": [
    "norm = nn.LayerNorm(embedding_dim)\n",
    "norm_x = norm(input_embeddings)\n",
    "norm_x.shape # torch.Size([1, 5, 16])\n",
    "\n",
    "norm_x.mean(dim=-1).data, norm_x.std(dim=-1).data\n",
    "\n",
    "# (tensor([[ 2.2352e-08, -1.1176e-08, -7.4506e-09, -3.9116e-08, -1.8626e-08]]),\n",
    "#  tensor([[1.0328, 1.0328, 1.0328, 1.0328, 1.0328]]))"
   ]
  },
  {
   "cell_type": "markdown",
   "metadata": {
    "id": "nkeIvwCYnSOs"
   },
   "source": [
    "## 예제 2.10. 피드 포워드 층 코드"
   ]
  },
  {
   "cell_type": "code",
   "execution_count": 14,
   "metadata": {
    "id": "3e9702XvnSrT",
    "ExecuteTime": {
     "end_time": "2024-08-21T07:07:31.064166Z",
     "start_time": "2024-08-21T07:07:31.061175Z"
    }
   },
   "outputs": [],
   "source": [
    "class PreLayerNormFeedForward(nn.Module):\n",
    "  def __init__(self, d_model, dim_feedforward, dropout):\n",
    "    super().__init__()\n",
    "    self.linear1 = nn.Linear(d_model, dim_feedforward) # 선형 층 1\n",
    "    self.linear2 = nn.Linear(dim_feedforward, d_model) # 선형 층 2\n",
    "    self.dropout1 = nn.Dropout(dropout) # 드랍아웃 층 1\n",
    "    self.dropout2 = nn.Dropout(dropout) # 드랍아웃 층 2\n",
    "    self.activation = nn.GELU() # 활성 함수\n",
    "    self.norm = nn.LayerNorm(d_model) # 층 정규화\n",
    "\n",
    "  def forward(self, src):\n",
    "    x = self.norm(src)\n",
    "    x = x + self.linear2(self.dropout1(self.activation(self.linear1(x))))\n",
    "    x = self.dropout2(x)\n",
    "    return x"
   ]
  },
  {
   "cell_type": "markdown",
   "metadata": {
    "id": "qq3eJqRInWWS"
   },
   "source": [
    "## 예제 2.11. 인코더 층"
   ]
  },
  {
   "cell_type": "code",
   "execution_count": 15,
   "metadata": {
    "id": "QNCFpdVknUVa",
    "ExecuteTime": {
     "end_time": "2024-08-21T07:07:31.078788Z",
     "start_time": "2024-08-21T07:07:31.064760Z"
    }
   },
   "outputs": [],
   "source": [
    "class TransformerEncoderLayer(nn.Module):\n",
    "  def __init__(self, d_model, nhead, dim_feedforward, dropout):\n",
    "    super().__init__()\n",
    "    self.attn = MultiheadAttention(d_model, d_model, nhead) # 멀티 헤드 어텐션 클래스\n",
    "    self.norm1 = nn.LayerNorm(d_model) # 층 정규화\n",
    "    self.dropout1 = nn.Dropout(dropout) # 드랍아웃\n",
    "    self.feed_forward = PreLayerNormFeedForward(d_model, dim_feedforward, dropout) # 피드포워드\n",
    "\n",
    "  def forward(self, src):\n",
    "    norm_x = self.norm1(src)\n",
    "    attn_output = self.attn(norm_x, norm_x, norm_x)\n",
    "    x = src + self.dropout1(attn_output) # 잔차 연결\n",
    "\n",
    "    # 피드 포워드\n",
    "    x = self.feed_forward(x)\n",
    "    return x"
   ]
  },
  {
   "cell_type": "markdown",
   "metadata": {
    "id": "W7acyE0lnc5L"
   },
   "source": [
    "## 예제 2.12. 인코더 구현"
   ]
  },
  {
   "cell_type": "code",
   "execution_count": 16,
   "metadata": {
    "id": "Ty7TTF55nYDr",
    "ExecuteTime": {
     "end_time": "2024-08-21T07:07:31.089599Z",
     "start_time": "2024-08-21T07:07:31.079373Z"
    }
   },
   "outputs": [],
   "source": [
    "import copy\n",
    "def get_clones(module, N):\n",
    "  return nn.ModuleList([copy.deepcopy(module) for i in range(N)])\n",
    "\n",
    "class TransformerEncoder(nn.Module):\n",
    "  def __init__(self, encoder_layer, num_layers):\n",
    "    super().__init__()\n",
    "    self.layers = get_clones(encoder_layer, num_layers)\n",
    "    self.num_layers = num_layers\n",
    "    self.norm = norm\n",
    "\n",
    "  def forward(self, src):\n",
    "    output = src\n",
    "    for mod in self.layers:\n",
    "        output = mod(output)\n",
    "    return output"
   ]
  },
  {
   "cell_type": "markdown",
   "metadata": {
    "id": "2dJpZJGrnhMI"
   },
   "source": [
    "## 예제 2.13. 디코더에서 어텐션 연산(마스크 어텐션)"
   ]
  },
  {
   "cell_type": "code",
   "execution_count": 17,
   "metadata": {
    "id": "y2nBX5monelI",
    "ExecuteTime": {
     "end_time": "2024-08-21T07:07:31.100473Z",
     "start_time": "2024-08-21T07:07:31.090174Z"
    }
   },
   "outputs": [],
   "source": [
    "def compute_attention(querys, keys, values, is_causal=False):\n",
    "\tdim_k = querys.size(-1) # 16\n",
    "\tscores = querys @ keys.transpose(-2, -1) / sqrt(dim_k) # (1, 5, 5)\n",
    "\tif is_causal:\n",
    "\t\tquery_length = querys.size(2)\n",
    "\t\tkey_length = keys.size(2)\n",
    "\t\ttemp_mask = torch.ones(query_length, key_length, dtype=torch.bool).tril(diagonal=0)\n",
    "\t\tscores = scores.masked_fill(temp_mask == False, float(\"-inf\"))\n",
    "\tweights = F.softmax(scores, dim=-1) # (1, 5, 5)\n",
    "\treturn weights @ values # (1, 5, 16)"
   ]
  },
  {
   "cell_type": "markdown",
   "metadata": {
    "id": "5jxCS_lunl_7"
   },
   "source": [
    "## 예제 2.14. 크로스 어텐션이 포함된 디코더 층"
   ]
  },
  {
   "cell_type": "code",
   "execution_count": 18,
   "metadata": {
    "id": "b7youbG9njnW",
    "ExecuteTime": {
     "end_time": "2024-08-21T07:07:31.114933Z",
     "start_time": "2024-08-21T07:07:31.100975Z"
    }
   },
   "outputs": [],
   "source": [
    "class TransformerDecoderLayer(nn.Module):\n",
    "  def __init__(self, d_model, nhead, dim_feedforward=2048, dropout=0.1):\n",
    "    super().__init__()\n",
    "    self.self_attn = MultiheadAttention(d_model, d_model, nhead)\n",
    "    self.multihead_attn = MultiheadAttention(d_model, d_model, nhead)\n",
    "    self.feed_forward = PreLayerNormFeedForward(d_model, dim_feedforward, dropout)\n",
    "\n",
    "    self.norm1 = nn.LayerNorm(d_model)\n",
    "    self.norm2 = nn.LayerNorm(d_model)\n",
    "    self.dropout1 = nn.Dropout(dropout)\n",
    "    self.dropout2 = nn.Dropout(dropout)\n",
    "\n",
    "  def forward(self, tgt, encoder_output, is_causal=True):\n",
    "    # 셀프 어텐션 연산\n",
    "    x = self.norm1(tgt)\n",
    "    x = x + self.dropout1(self.self_attn(x, x, x))\n",
    "    # 크로스 어텐션 연산\n",
    "    x = self.norm2(x)\n",
    "    x = x + self.dropout2(self.multihead_attn(x, encoder_output, encoder_output, is_causal=is_causal))\n",
    "    # 피드 포워드 연산\n",
    "    x = self.feed_forward(x)\n",
    "    return x"
   ]
  },
  {
   "cell_type": "markdown",
   "metadata": {
    "id": "l218C0ZOnqDO"
   },
   "source": [
    "## 예제 2.15. 디코더 구현"
   ]
  },
  {
   "cell_type": "code",
   "execution_count": 19,
   "metadata": {
    "id": "7meGa10vnnw1",
    "ExecuteTime": {
     "end_time": "2024-08-21T07:07:31.125636Z",
     "start_time": "2024-08-21T07:07:31.115408Z"
    }
   },
   "outputs": [],
   "source": [
    "import copy\n",
    "def get_clones(module, N):\n",
    "  return nn.ModuleList([copy.deepcopy(module) for i in range(N)])\n",
    "\n",
    "class TransformerDecoder(nn.Module):\n",
    "  def __init__(self, decoder_layer, num_layers):\n",
    "    super().__init__()\n",
    "    self.layers = get_clones(decoder_layer, num_layers)\n",
    "    self.num_layers = num_layers\n",
    "\n",
    "  def forward(self, tgt, src):\n",
    "    output = tgt\n",
    "    for mod in self.layers:\n",
    "        output = mod(tgt, src)\n",
    "    return output"
   ]
  }
 ],
 "metadata": {
  "colab": {
   "provenance": []
  },
  "kernelspec": {
   "display_name": "Python 3 (ipykernel)",
   "language": "python",
   "name": "python3"
  },
  "language_info": {
   "codemirror_mode": {
    "name": "ipython",
    "version": 3
   },
   "file_extension": ".py",
   "mimetype": "text/x-python",
   "name": "python",
   "nbconvert_exporter": "python",
   "pygments_lexer": "ipython3",
   "version": "3.11.4"
  }
 },
 "nbformat": 4,
 "nbformat_minor": 4
}
